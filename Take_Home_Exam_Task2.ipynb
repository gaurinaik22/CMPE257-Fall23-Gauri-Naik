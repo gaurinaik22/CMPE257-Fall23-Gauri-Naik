{
  "nbformat": 4,
  "nbformat_minor": 0,
  "metadata": {
    "colab": {
      "provenance": [],
      "authorship_tag": "ABX9TyOG+mj/txaT/AIHLpKoGAgk",
      "include_colab_link": true
    },
    "kernelspec": {
      "name": "python3",
      "display_name": "Python 3"
    },
    "language_info": {
      "name": "python"
    }
  },
  "cells": [
    {
      "cell_type": "markdown",
      "metadata": {
        "id": "view-in-github",
        "colab_type": "text"
      },
      "source": [
        "<a href=\"https://colab.research.google.com/github/gaurinaik22/CMPE257-Fall23-Gauri-Naik/blob/take-home-exam/Take_Home_Exam_Task2.ipynb\" target=\"_parent\"><img src=\"https://colab.research.google.com/assets/colab-badge.svg\" alt=\"Open In Colab\"/></a>"
      ]
    },
    {
      "cell_type": "code",
      "execution_count": 66,
      "metadata": {
        "id": "BIXKe53-bakT"
      },
      "outputs": [],
      "source": [
        "import pandas as pd"
      ]
    },
    {
      "cell_type": "code",
      "source": [
        "from sklearn.model_selection import train_test_split\n",
        "from sklearn.preprocessing import LabelEncoder"
      ],
      "metadata": {
        "id": "IyCfIqmqcGc3"
      },
      "execution_count": 67,
      "outputs": []
    },
    {
      "cell_type": "code",
      "source": [
        "from sklearn.linear_model import LogisticRegression\n",
        "from sklearn.metrics import accuracy_score, precision_score, recall_score, f1_score\n",
        "from sklearn.tree import DecisionTreeClassifier\n",
        "from sklearn.ensemble import RandomForestClassifier\n",
        "from sklearn.svm import SVC"
      ],
      "metadata": {
        "id": "Vx0vBHz6c694"
      },
      "execution_count": 68,
      "outputs": []
    },
    {
      "cell_type": "code",
      "source": [
        "from google.colab import drive\n",
        "drive.mount('/content/drive')"
      ],
      "metadata": {
        "colab": {
          "base_uri": "https://localhost:8080/"
        },
        "id": "IjfLg-BobonJ",
        "outputId": "10c6cdc8-0bcf-42af-e685-c6e049604ce4"
      },
      "execution_count": 69,
      "outputs": [
        {
          "output_type": "stream",
          "name": "stdout",
          "text": [
            "Drive already mounted at /content/drive; to attempt to forcibly remount, call drive.mount(\"/content/drive\", force_remount=True).\n"
          ]
        }
      ]
    },
    {
      "cell_type": "code",
      "source": [
        "breast_cancer_dataset = pd.read_csv('/content/drive/MyDrive/ML/breast_cancer_dataset_preprocessed.csv')"
      ],
      "metadata": {
        "id": "hpa9Utqwbqgz"
      },
      "execution_count": 70,
      "outputs": []
    },
    {
      "cell_type": "code",
      "source": [
        "breast_cancer_dataset.head()"
      ],
      "metadata": {
        "colab": {
          "base_uri": "https://localhost:8080/",
          "height": 226
        },
        "id": "8IDqwr_EcAII",
        "outputId": "fb61721b-1cdb-4ef7-e998-551829f550d2"
      },
      "execution_count": 71,
      "outputs": [
        {
          "output_type": "execute_result",
          "data": {
            "text/plain": [
              "         x1        x2        x3        x4        x5        x6        x7  \\\n",
              "0  4.147954 -4.443183 -0.068966  4.035033  0.817574 -0.476277  0.553593   \n",
              "1 -4.595154 -2.684882  1.084110 -0.403925  0.410287  0.687051  0.284184   \n",
              "2 -0.755349 -2.318373 -1.938275  0.279953  0.241712  3.409801  0.092694   \n",
              "3 -0.453863  0.197572 -1.037060  0.344384  0.070598 -0.822546 -0.993352   \n",
              "4 -3.278680 -0.792025 -0.736833 -1.621295 -0.085459 -0.824324 -0.107042   \n",
              "\n",
              "         x8  y  \n",
              "0  1.268819  M  \n",
              "1  0.260968  B  \n",
              "2  1.040391  M  \n",
              "3 -0.946259  B  \n",
              "4 -0.291755  B  "
            ],
            "text/html": [
              "\n",
              "  <div id=\"df-1c7d2e0f-032c-4c7d-923f-cf34e8c77fce\" class=\"colab-df-container\">\n",
              "    <div>\n",
              "<style scoped>\n",
              "    .dataframe tbody tr th:only-of-type {\n",
              "        vertical-align: middle;\n",
              "    }\n",
              "\n",
              "    .dataframe tbody tr th {\n",
              "        vertical-align: top;\n",
              "    }\n",
              "\n",
              "    .dataframe thead th {\n",
              "        text-align: right;\n",
              "    }\n",
              "</style>\n",
              "<table border=\"1\" class=\"dataframe\">\n",
              "  <thead>\n",
              "    <tr style=\"text-align: right;\">\n",
              "      <th></th>\n",
              "      <th>x1</th>\n",
              "      <th>x2</th>\n",
              "      <th>x3</th>\n",
              "      <th>x4</th>\n",
              "      <th>x5</th>\n",
              "      <th>x6</th>\n",
              "      <th>x7</th>\n",
              "      <th>x8</th>\n",
              "      <th>y</th>\n",
              "    </tr>\n",
              "  </thead>\n",
              "  <tbody>\n",
              "    <tr>\n",
              "      <th>0</th>\n",
              "      <td>4.147954</td>\n",
              "      <td>-4.443183</td>\n",
              "      <td>-0.068966</td>\n",
              "      <td>4.035033</td>\n",
              "      <td>0.817574</td>\n",
              "      <td>-0.476277</td>\n",
              "      <td>0.553593</td>\n",
              "      <td>1.268819</td>\n",
              "      <td>M</td>\n",
              "    </tr>\n",
              "    <tr>\n",
              "      <th>1</th>\n",
              "      <td>-4.595154</td>\n",
              "      <td>-2.684882</td>\n",
              "      <td>1.084110</td>\n",
              "      <td>-0.403925</td>\n",
              "      <td>0.410287</td>\n",
              "      <td>0.687051</td>\n",
              "      <td>0.284184</td>\n",
              "      <td>0.260968</td>\n",
              "      <td>B</td>\n",
              "    </tr>\n",
              "    <tr>\n",
              "      <th>2</th>\n",
              "      <td>-0.755349</td>\n",
              "      <td>-2.318373</td>\n",
              "      <td>-1.938275</td>\n",
              "      <td>0.279953</td>\n",
              "      <td>0.241712</td>\n",
              "      <td>3.409801</td>\n",
              "      <td>0.092694</td>\n",
              "      <td>1.040391</td>\n",
              "      <td>M</td>\n",
              "    </tr>\n",
              "    <tr>\n",
              "      <th>3</th>\n",
              "      <td>-0.453863</td>\n",
              "      <td>0.197572</td>\n",
              "      <td>-1.037060</td>\n",
              "      <td>0.344384</td>\n",
              "      <td>0.070598</td>\n",
              "      <td>-0.822546</td>\n",
              "      <td>-0.993352</td>\n",
              "      <td>-0.946259</td>\n",
              "      <td>B</td>\n",
              "    </tr>\n",
              "    <tr>\n",
              "      <th>4</th>\n",
              "      <td>-3.278680</td>\n",
              "      <td>-0.792025</td>\n",
              "      <td>-0.736833</td>\n",
              "      <td>-1.621295</td>\n",
              "      <td>-0.085459</td>\n",
              "      <td>-0.824324</td>\n",
              "      <td>-0.107042</td>\n",
              "      <td>-0.291755</td>\n",
              "      <td>B</td>\n",
              "    </tr>\n",
              "  </tbody>\n",
              "</table>\n",
              "</div>\n",
              "    <div class=\"colab-df-buttons\">\n",
              "\n",
              "  <div class=\"colab-df-container\">\n",
              "    <button class=\"colab-df-convert\" onclick=\"convertToInteractive('df-1c7d2e0f-032c-4c7d-923f-cf34e8c77fce')\"\n",
              "            title=\"Convert this dataframe to an interactive table.\"\n",
              "            style=\"display:none;\">\n",
              "\n",
              "  <svg xmlns=\"http://www.w3.org/2000/svg\" height=\"24px\" viewBox=\"0 -960 960 960\">\n",
              "    <path d=\"M120-120v-720h720v720H120Zm60-500h600v-160H180v160Zm220 220h160v-160H400v160Zm0 220h160v-160H400v160ZM180-400h160v-160H180v160Zm440 0h160v-160H620v160ZM180-180h160v-160H180v160Zm440 0h160v-160H620v160Z\"/>\n",
              "  </svg>\n",
              "    </button>\n",
              "\n",
              "  <style>\n",
              "    .colab-df-container {\n",
              "      display:flex;\n",
              "      gap: 12px;\n",
              "    }\n",
              "\n",
              "    .colab-df-convert {\n",
              "      background-color: #E8F0FE;\n",
              "      border: none;\n",
              "      border-radius: 50%;\n",
              "      cursor: pointer;\n",
              "      display: none;\n",
              "      fill: #1967D2;\n",
              "      height: 32px;\n",
              "      padding: 0 0 0 0;\n",
              "      width: 32px;\n",
              "    }\n",
              "\n",
              "    .colab-df-convert:hover {\n",
              "      background-color: #E2EBFA;\n",
              "      box-shadow: 0px 1px 2px rgba(60, 64, 67, 0.3), 0px 1px 3px 1px rgba(60, 64, 67, 0.15);\n",
              "      fill: #174EA6;\n",
              "    }\n",
              "\n",
              "    .colab-df-buttons div {\n",
              "      margin-bottom: 4px;\n",
              "    }\n",
              "\n",
              "    [theme=dark] .colab-df-convert {\n",
              "      background-color: #3B4455;\n",
              "      fill: #D2E3FC;\n",
              "    }\n",
              "\n",
              "    [theme=dark] .colab-df-convert:hover {\n",
              "      background-color: #434B5C;\n",
              "      box-shadow: 0px 1px 3px 1px rgba(0, 0, 0, 0.15);\n",
              "      filter: drop-shadow(0px 1px 2px rgba(0, 0, 0, 0.3));\n",
              "      fill: #FFFFFF;\n",
              "    }\n",
              "  </style>\n",
              "\n",
              "    <script>\n",
              "      const buttonEl =\n",
              "        document.querySelector('#df-1c7d2e0f-032c-4c7d-923f-cf34e8c77fce button.colab-df-convert');\n",
              "      buttonEl.style.display =\n",
              "        google.colab.kernel.accessAllowed ? 'block' : 'none';\n",
              "\n",
              "      async function convertToInteractive(key) {\n",
              "        const element = document.querySelector('#df-1c7d2e0f-032c-4c7d-923f-cf34e8c77fce');\n",
              "        const dataTable =\n",
              "          await google.colab.kernel.invokeFunction('convertToInteractive',\n",
              "                                                    [key], {});\n",
              "        if (!dataTable) return;\n",
              "\n",
              "        const docLinkHtml = 'Like what you see? Visit the ' +\n",
              "          '<a target=\"_blank\" href=https://colab.research.google.com/notebooks/data_table.ipynb>data table notebook</a>'\n",
              "          + ' to learn more about interactive tables.';\n",
              "        element.innerHTML = '';\n",
              "        dataTable['output_type'] = 'display_data';\n",
              "        await google.colab.output.renderOutput(dataTable, element);\n",
              "        const docLink = document.createElement('div');\n",
              "        docLink.innerHTML = docLinkHtml;\n",
              "        element.appendChild(docLink);\n",
              "      }\n",
              "    </script>\n",
              "  </div>\n",
              "\n",
              "\n",
              "<div id=\"df-97184e7a-e415-451b-b99e-dd965b02d714\">\n",
              "  <button class=\"colab-df-quickchart\" onclick=\"quickchart('df-97184e7a-e415-451b-b99e-dd965b02d714')\"\n",
              "            title=\"Suggest charts\"\n",
              "            style=\"display:none;\">\n",
              "\n",
              "<svg xmlns=\"http://www.w3.org/2000/svg\" height=\"24px\"viewBox=\"0 0 24 24\"\n",
              "     width=\"24px\">\n",
              "    <g>\n",
              "        <path d=\"M19 3H5c-1.1 0-2 .9-2 2v14c0 1.1.9 2 2 2h14c1.1 0 2-.9 2-2V5c0-1.1-.9-2-2-2zM9 17H7v-7h2v7zm4 0h-2V7h2v10zm4 0h-2v-4h2v4z\"/>\n",
              "    </g>\n",
              "</svg>\n",
              "  </button>\n",
              "\n",
              "<style>\n",
              "  .colab-df-quickchart {\n",
              "      --bg-color: #E8F0FE;\n",
              "      --fill-color: #1967D2;\n",
              "      --hover-bg-color: #E2EBFA;\n",
              "      --hover-fill-color: #174EA6;\n",
              "      --disabled-fill-color: #AAA;\n",
              "      --disabled-bg-color: #DDD;\n",
              "  }\n",
              "\n",
              "  [theme=dark] .colab-df-quickchart {\n",
              "      --bg-color: #3B4455;\n",
              "      --fill-color: #D2E3FC;\n",
              "      --hover-bg-color: #434B5C;\n",
              "      --hover-fill-color: #FFFFFF;\n",
              "      --disabled-bg-color: #3B4455;\n",
              "      --disabled-fill-color: #666;\n",
              "  }\n",
              "\n",
              "  .colab-df-quickchart {\n",
              "    background-color: var(--bg-color);\n",
              "    border: none;\n",
              "    border-radius: 50%;\n",
              "    cursor: pointer;\n",
              "    display: none;\n",
              "    fill: var(--fill-color);\n",
              "    height: 32px;\n",
              "    padding: 0;\n",
              "    width: 32px;\n",
              "  }\n",
              "\n",
              "  .colab-df-quickchart:hover {\n",
              "    background-color: var(--hover-bg-color);\n",
              "    box-shadow: 0 1px 2px rgba(60, 64, 67, 0.3), 0 1px 3px 1px rgba(60, 64, 67, 0.15);\n",
              "    fill: var(--button-hover-fill-color);\n",
              "  }\n",
              "\n",
              "  .colab-df-quickchart-complete:disabled,\n",
              "  .colab-df-quickchart-complete:disabled:hover {\n",
              "    background-color: var(--disabled-bg-color);\n",
              "    fill: var(--disabled-fill-color);\n",
              "    box-shadow: none;\n",
              "  }\n",
              "\n",
              "  .colab-df-spinner {\n",
              "    border: 2px solid var(--fill-color);\n",
              "    border-color: transparent;\n",
              "    border-bottom-color: var(--fill-color);\n",
              "    animation:\n",
              "      spin 1s steps(1) infinite;\n",
              "  }\n",
              "\n",
              "  @keyframes spin {\n",
              "    0% {\n",
              "      border-color: transparent;\n",
              "      border-bottom-color: var(--fill-color);\n",
              "      border-left-color: var(--fill-color);\n",
              "    }\n",
              "    20% {\n",
              "      border-color: transparent;\n",
              "      border-left-color: var(--fill-color);\n",
              "      border-top-color: var(--fill-color);\n",
              "    }\n",
              "    30% {\n",
              "      border-color: transparent;\n",
              "      border-left-color: var(--fill-color);\n",
              "      border-top-color: var(--fill-color);\n",
              "      border-right-color: var(--fill-color);\n",
              "    }\n",
              "    40% {\n",
              "      border-color: transparent;\n",
              "      border-right-color: var(--fill-color);\n",
              "      border-top-color: var(--fill-color);\n",
              "    }\n",
              "    60% {\n",
              "      border-color: transparent;\n",
              "      border-right-color: var(--fill-color);\n",
              "    }\n",
              "    80% {\n",
              "      border-color: transparent;\n",
              "      border-right-color: var(--fill-color);\n",
              "      border-bottom-color: var(--fill-color);\n",
              "    }\n",
              "    90% {\n",
              "      border-color: transparent;\n",
              "      border-bottom-color: var(--fill-color);\n",
              "    }\n",
              "  }\n",
              "</style>\n",
              "\n",
              "  <script>\n",
              "    async function quickchart(key) {\n",
              "      const quickchartButtonEl =\n",
              "        document.querySelector('#' + key + ' button');\n",
              "      quickchartButtonEl.disabled = true;  // To prevent multiple clicks.\n",
              "      quickchartButtonEl.classList.add('colab-df-spinner');\n",
              "      try {\n",
              "        const charts = await google.colab.kernel.invokeFunction(\n",
              "            'suggestCharts', [key], {});\n",
              "      } catch (error) {\n",
              "        console.error('Error during call to suggestCharts:', error);\n",
              "      }\n",
              "      quickchartButtonEl.classList.remove('colab-df-spinner');\n",
              "      quickchartButtonEl.classList.add('colab-df-quickchart-complete');\n",
              "    }\n",
              "    (() => {\n",
              "      let quickchartButtonEl =\n",
              "        document.querySelector('#df-97184e7a-e415-451b-b99e-dd965b02d714 button');\n",
              "      quickchartButtonEl.style.display =\n",
              "        google.colab.kernel.accessAllowed ? 'block' : 'none';\n",
              "    })();\n",
              "  </script>\n",
              "</div>\n",
              "    </div>\n",
              "  </div>\n"
            ]
          },
          "metadata": {},
          "execution_count": 71
        }
      ]
    },
    {
      "cell_type": "code",
      "source": [
        "# Extracting features and target variable\n",
        "X_bc = breast_cancer_dataset.drop('y', axis=1)\n",
        "y_bc = breast_cancer_dataset['y']"
      ],
      "metadata": {
        "id": "UDNFEN6DcMTC"
      },
      "execution_count": 72,
      "outputs": []
    },
    {
      "cell_type": "code",
      "source": [
        "# Encoding the target variable\n",
        "label_encoder = LabelEncoder()\n",
        "y_bc_encoded = label_encoder.fit_transform(y_bc)"
      ],
      "metadata": {
        "id": "xa14eYWpcMRJ"
      },
      "execution_count": 73,
      "outputs": []
    },
    {
      "cell_type": "code",
      "source": [
        "# Splitting the dataset into training and testing sets\n",
        "X_bc_train, X_bc_test, y_bc_train, y_bc_test = train_test_split(X_bc, y_bc_encoded, test_size=0.3, random_state=842)"
      ],
      "metadata": {
        "id": "daVnZ5qNcMO8"
      },
      "execution_count": 74,
      "outputs": []
    },
    {
      "cell_type": "code",
      "source": [
        "X_bc_train.shape"
      ],
      "metadata": {
        "colab": {
          "base_uri": "https://localhost:8080/"
        },
        "id": "x-4w4e8FcMMO",
        "outputId": "b1e9ff93-b53f-4789-ab54-2f20e51522fa"
      },
      "execution_count": 75,
      "outputs": [
        {
          "output_type": "execute_result",
          "data": {
            "text/plain": [
              "(266, 8)"
            ]
          },
          "metadata": {},
          "execution_count": 75
        }
      ]
    },
    {
      "cell_type": "code",
      "source": [
        "y_bc_train.shape"
      ],
      "metadata": {
        "colab": {
          "base_uri": "https://localhost:8080/"
        },
        "id": "IoFMXfKecl1l",
        "outputId": "971ca112-5d0c-428b-8a43-4b045b11e38f"
      },
      "execution_count": 76,
      "outputs": [
        {
          "output_type": "execute_result",
          "data": {
            "text/plain": [
              "(266,)"
            ]
          },
          "metadata": {},
          "execution_count": 76
        }
      ]
    },
    {
      "cell_type": "code",
      "source": [
        "X_bc_test.shape"
      ],
      "metadata": {
        "colab": {
          "base_uri": "https://localhost:8080/"
        },
        "id": "nbI1_5_5cD8U",
        "outputId": "6b96096b-15ee-4de1-ee07-4b41baf674d6"
      },
      "execution_count": 77,
      "outputs": [
        {
          "output_type": "execute_result",
          "data": {
            "text/plain": [
              "(115, 8)"
            ]
          },
          "metadata": {},
          "execution_count": 77
        }
      ]
    },
    {
      "cell_type": "code",
      "source": [
        "y_bc_test.shape"
      ],
      "metadata": {
        "colab": {
          "base_uri": "https://localhost:8080/"
        },
        "id": "LybHoSkccfG6",
        "outputId": "fc632ee5-7d5c-4c7b-81e8-313856b19166"
      },
      "execution_count": 78,
      "outputs": [
        {
          "output_type": "execute_result",
          "data": {
            "text/plain": [
              "(115,)"
            ]
          },
          "metadata": {},
          "execution_count": 78
        }
      ]
    },
    {
      "cell_type": "code",
      "source": [
        "# Function to train a model and evaluate its performance\n",
        "def evaluate_model(model, X_train, X_test, y_train, y_test):\n",
        "\n",
        "    model.fit(X_train, y_train)\n",
        "    y_pred = model.predict(X_test)\n",
        "    accuracy = accuracy_score(y_test, y_pred)\n",
        "    precision = precision_score(y_test, y_pred)\n",
        "    recall = recall_score(y_test, y_pred)\n",
        "    f1 = f1_score(y_test, y_pred)\n",
        "\n",
        "    return accuracy,precision, recall, f1"
      ],
      "metadata": {
        "id": "7Wy-OaplcfCU"
      },
      "execution_count": 79,
      "outputs": []
    },
    {
      "cell_type": "code",
      "source": [
        "models = {\n",
        "    \"Logistic Regression\": LogisticRegression(max_iter=1000),\n",
        "    \"Decision Tree\": DecisionTreeClassifier(),\n",
        "    \"Random Forest\": RandomForestClassifier(),\n",
        "    \"Support Vector Machine Linear\": SVC(kernel='linear'),\n",
        "    \"Support Vector Machine RBF\": SVC(kernel='rbf'),\n",
        "    \"Support Vector Machine Poly\": SVC(kernel='poly')\n",
        "}"
      ],
      "metadata": {
        "id": "ZR2c5T8cceh7"
      },
      "execution_count": 80,
      "outputs": []
    },
    {
      "cell_type": "code",
      "source": [
        "model_performance = {}\n",
        "for name, model in models.items():\n",
        "    performance = evaluate_model(model, X_bc_train, X_bc_test, y_bc_train, y_bc_test)\n",
        "    model_performance[name] = performance"
      ],
      "metadata": {
        "id": "0jnNXQMmdPdy"
      },
      "execution_count": 81,
      "outputs": []
    },
    {
      "cell_type": "code",
      "source": [
        "model_performance"
      ],
      "metadata": {
        "colab": {
          "base_uri": "https://localhost:8080/"
        },
        "id": "cz1DD5SPdTdR",
        "outputId": "ffbb3dbb-9350-482e-d7aa-23c23b384c2c"
      },
      "execution_count": 82,
      "outputs": [
        {
          "output_type": "execute_result",
          "data": {
            "text/plain": [
              "{'Logistic Regression': (0.9565217391304348,\n",
              "  0.9459459459459459,\n",
              "  0.9210526315789473,\n",
              "  0.9333333333333332),\n",
              " 'Decision Tree': (0.9478260869565217,\n",
              "  0.9705882352941176,\n",
              "  0.868421052631579,\n",
              "  0.9166666666666667),\n",
              " 'Random Forest': (0.991304347826087,\n",
              "  1.0,\n",
              "  0.9736842105263158,\n",
              "  0.9866666666666666),\n",
              " 'Support Vector Machine Linear': (0.9565217391304348,\n",
              "  0.9459459459459459,\n",
              "  0.9210526315789473,\n",
              "  0.9333333333333332),\n",
              " 'Support Vector Machine RBF': (0.991304347826087,\n",
              "  1.0,\n",
              "  0.9736842105263158,\n",
              "  0.9866666666666666),\n",
              " 'Support Vector Machine Poly': (0.9130434782608695,\n",
              "  1.0,\n",
              "  0.7368421052631579,\n",
              "  0.8484848484848484)}"
            ]
          },
          "metadata": {},
          "execution_count": 82
        }
      ]
    },
    {
      "cell_type": "markdown",
      "source": [
        "**Best Performing Model**\n",
        "\n",
        "*   The ***SVM with RBF kernel*** was identified as the best performing model.\n",
        "*   It achieved the highest scores across all evaluated metrics - *accuracy (99.13%), precision (100%), recall (97.37%), and F1-score (98.67%)*.\n",
        "\n"
      ],
      "metadata": {
        "id": "5bzisO0X76pI"
      }
    },
    {
      "cell_type": "markdown",
      "source": [
        "**Reason for Model Selection**\n",
        "\n",
        "- The SVM with RBF kernel not only provided the highest accuracy but also maintained an excellent balance between precision and recall, as evidenced by its high F1-score.\n",
        "-The RBF kernel is particularly effective in datasets where the relationship between features and the target variable is complex and non-linear, making it well-suited for this dataset.\n",
        "\n",
        "\n"
      ],
      "metadata": {
        "id": "ypr2UJmy8Q90"
      }
    },
    {
      "cell_type": "markdown",
      "source": [
        "**Performance Metrics Used**\n",
        "\n",
        "- **Accuracy**: This metric assessed the overall correctness of the model by calculating the proportion of true results among the total number of cases examined.\n",
        "- **Precision**: Precision measured the proportion of positive identifications that were actually correct, emphasizing the cost of false positives.\n",
        "- **Recall**: Recall focused on the model's ability to correctly identify all relevant cases, highlighting the importance of minimizing false negatives.\n",
        "- **F1-Score**: The F1-score provided a harmonious balance between precision and recall where both false positives and false negatives are critical.\n"
      ],
      "metadata": {
        "id": "Hpa4h0rIdPRJ"
      }
    },
    {
      "cell_type": "markdown",
      "source": [
        "####  Description of the Methodology\n",
        "\n",
        "**Data Preprocessing**\n",
        "- **Dataset Loading**: The Breast Cancer dataset with diagnostic features was loaded.\n",
        "- **Feature-Target Split**: Features and target (cancer diagnosis) were separated.\n",
        "- **Target Encoding**: The categorical target variable was numerically encoded.\n",
        "- **Data Splitting**: The dataset was divided into training (70%) and testing (30%) sets using `random_state=842`.\n",
        "\n",
        "**Model Training and Evaluation**\n",
        "- **Model Selection**: Six models were chosen: Logistic Regression, Decision Tree, Random Forest, and SVMs with Linear, Polynomial, and RBF kernels.\n",
        "- **Training**: Each model was trained on the training data.\n",
        "- **Evaluation**: Models were assessed based on accuracy, precision, recall, and F1-score to gauge their classification effectiveness and balance between false positives and negatives."
      ],
      "metadata": {
        "id": "T7qJTagyiAlW"
      }
    },
    {
      "cell_type": "code",
      "source": [],
      "metadata": {
        "id": "ezhgE9K4i7jV"
      },
      "execution_count": null,
      "outputs": []
    }
  ]
}